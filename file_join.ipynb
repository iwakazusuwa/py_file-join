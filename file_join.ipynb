{
 "cells": [
  {
   "cell_type": "markdown",
   "id": "9c23fce2-52e1-4775-a3d0-0004a0099df9",
   "metadata": {},
   "source": [
    "# 複数のCSVファイルを１ファイルに結合して保存する"
   ]
  },
  {
   "cell_type": "code",
   "execution_count": 1,
   "id": "f7f5354d-3946-428f-b518-331baa655b9a",
   "metadata": {},
   "outputs": [],
   "source": [
    "import os\n",
    "import glob\n",
    "import pandas as pd\n"
   ]
  },
  {
   "cell_type": "code",
   "execution_count": 2,
   "id": "79a177f1-8b66-4b02-ac7f-b44f1f817c48",
   "metadata": {},
   "outputs": [],
   "source": [
    "#=============================================\n",
    "# currentパス\n",
    "#=============================================\n",
    "current_dpath = os.getcwd()\n",
    "#=============================================\n",
    "# parentパス\n",
    "#=============================================\n",
    "parent_dpath =os.path.sep.join(current_dpath.split(os.path.sep)[:-1])\n",
    "\n",
    "#=============================================\n",
    "# Inputデータフォルダパス\n",
    "#=============================================\n",
    "\n",
    "INPUT_DNAME = \"2_data\"\n",
    "input_dpath =os.path.sep.join([parent_dpath,INPUT_DNAME])\n",
    "\n",
    "#=============================================\n",
    "# 出力先のフォルダパス\n",
    "#=============================================\n",
    "OUTPUT_DNAME = \"3_output\"\n",
    "output_dpath =os.path.sep.join([parent_dpath,OUTPUT_DNAME])\n",
    "\n",
    "#=============================================\n",
    "# 出力先のフォルダ　なければ作成\n",
    "#=============================================\n",
    "os.makedirs(output_dpath,exist_ok = True)\n",
    "\n",
    "#=============================================\n",
    "# 出力先のフォルダ内の　前回処理ファイルを削除\n",
    "#=============================================\n",
    "dir = output_dpath\n",
    "for f in os.listdir(dir):\n",
    "    os.remove(os.path.join(dir, f))"
   ]
  },
  {
   "cell_type": "code",
   "execution_count": 4,
   "id": "d3e8217f-c444-41af-99f7-80ea37382524",
   "metadata": {},
   "outputs": [
    {
     "name": "stderr",
     "output_type": "stream",
     "text": [
      "C:\\Users\\user\\AppData\\Local\\Temp\\ipykernel_7764\\268745841.py:13: DtypeWarning: Columns (10) have mixed types. Specify dtype option on import or set low_memory=False.\n",
      "  data_list.append(pd.read_csv(file))\n",
      "C:\\Users\\user\\AppData\\Local\\Temp\\ipykernel_7764\\268745841.py:13: DtypeWarning: Columns (10) have mixed types. Specify dtype option on import or set low_memory=False.\n",
      "  data_list.append(pd.read_csv(file))\n"
     ]
    }
   ],
   "source": [
    "#=============================================\n",
    "# ファイルリスト\n",
    "#=============================================\n",
    "csv_files = glob.glob(input_dpath + \"/*.csv\")\n",
    "\n",
    "#=============================================\n",
    "# 保存名\n",
    "#=============================================\n",
    "save_name = \"結合.csv\"\n",
    "\n",
    "data_list=[]\n",
    "for file in csv_files:\n",
    "    data_list.append(pd.read_csv(file))\n",
    "\n",
    "data_df = pd.concat(data_list,axis=0)\n",
    "data_df.to_csv(output_dpath + \"/\" + save_name, encoding='cp932',index =False)\n"
   ]
  },
  {
   "cell_type": "code",
   "execution_count": 5,
   "id": "8bbc6d3b-5092-4136-8988-ab9ba1fb3f3e",
   "metadata": {},
   "outputs": [],
   "source": [
    "#=============================================\n",
    "# 保存フォルダ開く\n",
    "#=============================================\n",
    "os.startfile(os.path.realpath(output_dpath) + \"\\\\\")\n",
    "\n",
    "\n",
    "#=============================================\n",
    "# 保存したファイル開く \n",
    "#=============================================\n",
    "#os.startfile(os.path.realpath(output_dpath) + \"\\\\\" + save_name)"
   ]
  },
  {
   "cell_type": "code",
   "execution_count": null,
   "id": "949a8560-d8b8-4fdf-af53-6400cfa2e4d5",
   "metadata": {},
   "outputs": [],
   "source": []
  }
 ],
 "metadata": {
  "kernelspec": {
   "display_name": "Python 3 (ipykernel)",
   "language": "python",
   "name": "python3"
  },
  "language_info": {
   "codemirror_mode": {
    "name": "ipython",
    "version": 3
   },
   "file_extension": ".py",
   "mimetype": "text/x-python",
   "name": "python",
   "nbconvert_exporter": "python",
   "pygments_lexer": "ipython3",
   "version": "3.8.10"
  }
 },
 "nbformat": 4,
 "nbformat_minor": 5
}
